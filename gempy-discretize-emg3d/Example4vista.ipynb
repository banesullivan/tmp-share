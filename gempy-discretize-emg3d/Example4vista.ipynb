{
 "cells": [
  {
   "cell_type": "markdown",
   "metadata": {},
   "source": [
    "# Example for `vista`?\n",
    "\n",
    "This is sort of a minimum working example, to see if we can replace the VTK plotting currently included in `GemPy` with `vista`. It is a strip-down and modified version of the example given in [Chapter 1.1](https://nbviewer.jupyter.org/github/cgre-aachen/gempy/blob/master/notebooks/tutorials/ch1-1_Basics.ipynb).\n",
    "\n",
    "All the VTK stuff in `GemPy` is located in `gempy/plot/visualization_3d.py` in the classes `vtkVisualization` and `GemPyvtkInteract`."
   ]
  },
  {
   "cell_type": "code",
   "execution_count": 1,
   "metadata": {},
   "outputs": [],
   "source": [
    "# Importing GemPy\n",
    "import gempy as gp\n",
    "\n",
    "# Importing auxiliary libraries\n",
    "import numpy as np\n",
    "import matplotlib.pyplot as plt"
   ]
  },
  {
   "cell_type": "markdown",
   "metadata": {},
   "source": [
    "## Importing and creating a set of input data"
   ]
  },
  {
   "cell_type": "code",
   "execution_count": 2,
   "metadata": {
    "scrolled": false
   },
   "outputs": [
    {
     "data": {
      "text/plain": [
       "GemPy-vista  2019-05-10 11:35"
      ]
     },
     "execution_count": 2,
     "metadata": {},
     "output_type": "execute_result"
    }
   ],
   "source": [
    "# Create a geo-model\n",
    "geo_model = gp.create_model('GemPy-vista')\n",
    "\n",
    "# Importing the data from CSV-files and setting extent and resolution\n",
    "gp.init_data(\n",
    "    geo_model,\n",
    "    [0,2000., 0,2000., -2000, 0.],[50, 50, 50],\n",
    "    path_o = \"data/simple_fault_model_orientations.csv\",\n",
    "    path_i = \"data/simple_fault_model_points.csv\",\n",
    "    default_values=True\n",
    ")"
   ]
  },
  {
   "cell_type": "markdown",
   "metadata": {},
   "source": [
    "Map the different series"
   ]
  },
  {
   "cell_type": "code",
   "execution_count": 3,
   "metadata": {
    "scrolled": false
   },
   "outputs": [
    {
     "data": {
      "text/html": [
       "<style  type=\"text/css\" >\n",
       "    #T_f2be071a_7306_11e9_ad77_d9a52c154cd4row0_col4 {\n",
       "            background-color:  #443988;\n",
       "        }    #T_f2be071a_7306_11e9_ad77_d9a52c154cd4row1_col4 {\n",
       "            background-color:  #015482;\n",
       "        }    #T_f2be071a_7306_11e9_ad77_d9a52c154cd4row2_col4 {\n",
       "            background-color:  #9f0052;\n",
       "        }    #T_f2be071a_7306_11e9_ad77_d9a52c154cd4row3_col4 {\n",
       "            background-color:  #ffbe00;\n",
       "        }    #T_f2be071a_7306_11e9_ad77_d9a52c154cd4row4_col4 {\n",
       "            background-color:  #728f02;\n",
       "        }    #T_f2be071a_7306_11e9_ad77_d9a52c154cd4row5_col4 {\n",
       "            background-color:  #ff3f20;\n",
       "        }</style><table id=\"T_f2be071a_7306_11e9_ad77_d9a52c154cd4\" ><thead>    <tr>        <th class=\"blank level0\" ></th>        <th class=\"col_heading level0 col0\" >surface</th>        <th class=\"col_heading level0 col1\" >series</th>        <th class=\"col_heading level0 col2\" >order_surfaces</th>        <th class=\"col_heading level0 col3\" >isBasement</th>        <th class=\"col_heading level0 col4\" >color</th>        <th class=\"col_heading level0 col5\" >id</th>    </tr></thead><tbody>\n",
       "                <tr>\n",
       "                        <th id=\"T_f2be071a_7306_11e9_ad77_d9a52c154cd4level0_row0\" class=\"row_heading level0 row0\" >4</th>\n",
       "                        <td id=\"T_f2be071a_7306_11e9_ad77_d9a52c154cd4row0_col0\" class=\"data row0 col0\" >fault</td>\n",
       "                        <td id=\"T_f2be071a_7306_11e9_ad77_d9a52c154cd4row0_col1\" class=\"data row0 col1\" >Fault_Series</td>\n",
       "                        <td id=\"T_f2be071a_7306_11e9_ad77_d9a52c154cd4row0_col2\" class=\"data row0 col2\" >1</td>\n",
       "                        <td id=\"T_f2be071a_7306_11e9_ad77_d9a52c154cd4row0_col3\" class=\"data row0 col3\" >False</td>\n",
       "                        <td id=\"T_f2be071a_7306_11e9_ad77_d9a52c154cd4row0_col4\" class=\"data row0 col4\" >#443988</td>\n",
       "                        <td id=\"T_f2be071a_7306_11e9_ad77_d9a52c154cd4row0_col5\" class=\"data row0 col5\" >1</td>\n",
       "            </tr>\n",
       "            <tr>\n",
       "                        <th id=\"T_f2be071a_7306_11e9_ad77_d9a52c154cd4level0_row1\" class=\"row_heading level0 row1\" >0</th>\n",
       "                        <td id=\"T_f2be071a_7306_11e9_ad77_d9a52c154cd4row1_col0\" class=\"data row1 col0\" >target</td>\n",
       "                        <td id=\"T_f2be071a_7306_11e9_ad77_d9a52c154cd4row1_col1\" class=\"data row1 col1\" >Strat_Series</td>\n",
       "                        <td id=\"T_f2be071a_7306_11e9_ad77_d9a52c154cd4row1_col2\" class=\"data row1 col2\" >1</td>\n",
       "                        <td id=\"T_f2be071a_7306_11e9_ad77_d9a52c154cd4row1_col3\" class=\"data row1 col3\" >False</td>\n",
       "                        <td id=\"T_f2be071a_7306_11e9_ad77_d9a52c154cd4row1_col4\" class=\"data row1 col4\" >#015482</td>\n",
       "                        <td id=\"T_f2be071a_7306_11e9_ad77_d9a52c154cd4row1_col5\" class=\"data row1 col5\" >2</td>\n",
       "            </tr>\n",
       "            <tr>\n",
       "                        <th id=\"T_f2be071a_7306_11e9_ad77_d9a52c154cd4level0_row2\" class=\"row_heading level0 row2\" >1</th>\n",
       "                        <td id=\"T_f2be071a_7306_11e9_ad77_d9a52c154cd4row2_col0\" class=\"data row2 col0\" >underburden</td>\n",
       "                        <td id=\"T_f2be071a_7306_11e9_ad77_d9a52c154cd4row2_col1\" class=\"data row2 col1\" >Strat_Series</td>\n",
       "                        <td id=\"T_f2be071a_7306_11e9_ad77_d9a52c154cd4row2_col2\" class=\"data row2 col2\" >2</td>\n",
       "                        <td id=\"T_f2be071a_7306_11e9_ad77_d9a52c154cd4row2_col3\" class=\"data row2 col3\" >False</td>\n",
       "                        <td id=\"T_f2be071a_7306_11e9_ad77_d9a52c154cd4row2_col4\" class=\"data row2 col4\" >#9f0052</td>\n",
       "                        <td id=\"T_f2be071a_7306_11e9_ad77_d9a52c154cd4row2_col5\" class=\"data row2 col5\" >3</td>\n",
       "            </tr>\n",
       "            <tr>\n",
       "                        <th id=\"T_f2be071a_7306_11e9_ad77_d9a52c154cd4level0_row3\" class=\"row_heading level0 row3\" >2</th>\n",
       "                        <td id=\"T_f2be071a_7306_11e9_ad77_d9a52c154cd4row3_col0\" class=\"data row3 col0\" >overburden</td>\n",
       "                        <td id=\"T_f2be071a_7306_11e9_ad77_d9a52c154cd4row3_col1\" class=\"data row3 col1\" >Strat_Series</td>\n",
       "                        <td id=\"T_f2be071a_7306_11e9_ad77_d9a52c154cd4row3_col2\" class=\"data row3 col2\" >3</td>\n",
       "                        <td id=\"T_f2be071a_7306_11e9_ad77_d9a52c154cd4row3_col3\" class=\"data row3 col3\" >False</td>\n",
       "                        <td id=\"T_f2be071a_7306_11e9_ad77_d9a52c154cd4row3_col4\" class=\"data row3 col4\" >#ffbe00</td>\n",
       "                        <td id=\"T_f2be071a_7306_11e9_ad77_d9a52c154cd4row3_col5\" class=\"data row3 col5\" >4</td>\n",
       "            </tr>\n",
       "            <tr>\n",
       "                        <th id=\"T_f2be071a_7306_11e9_ad77_d9a52c154cd4level0_row4\" class=\"row_heading level0 row4\" >3</th>\n",
       "                        <td id=\"T_f2be071a_7306_11e9_ad77_d9a52c154cd4row4_col0\" class=\"data row4 col0\" >seawater</td>\n",
       "                        <td id=\"T_f2be071a_7306_11e9_ad77_d9a52c154cd4row4_col1\" class=\"data row4 col1\" >Strat_Series</td>\n",
       "                        <td id=\"T_f2be071a_7306_11e9_ad77_d9a52c154cd4row4_col2\" class=\"data row4 col2\" >4</td>\n",
       "                        <td id=\"T_f2be071a_7306_11e9_ad77_d9a52c154cd4row4_col3\" class=\"data row4 col3\" >False</td>\n",
       "                        <td id=\"T_f2be071a_7306_11e9_ad77_d9a52c154cd4row4_col4\" class=\"data row4 col4\" >#728f02</td>\n",
       "                        <td id=\"T_f2be071a_7306_11e9_ad77_d9a52c154cd4row4_col5\" class=\"data row4 col5\" >5</td>\n",
       "            </tr>\n",
       "            <tr>\n",
       "                        <th id=\"T_f2be071a_7306_11e9_ad77_d9a52c154cd4level0_row5\" class=\"row_heading level0 row5\" >5</th>\n",
       "                        <td id=\"T_f2be071a_7306_11e9_ad77_d9a52c154cd4row5_col0\" class=\"data row5 col0\" >basement</td>\n",
       "                        <td id=\"T_f2be071a_7306_11e9_ad77_d9a52c154cd4row5_col1\" class=\"data row5 col1\" >Strat_Series</td>\n",
       "                        <td id=\"T_f2be071a_7306_11e9_ad77_d9a52c154cd4row5_col2\" class=\"data row5 col2\" >5</td>\n",
       "                        <td id=\"T_f2be071a_7306_11e9_ad77_d9a52c154cd4row5_col3\" class=\"data row5 col3\" >True</td>\n",
       "                        <td id=\"T_f2be071a_7306_11e9_ad77_d9a52c154cd4row5_col4\" class=\"data row5 col4\" >#ff3f20</td>\n",
       "                        <td id=\"T_f2be071a_7306_11e9_ad77_d9a52c154cd4row5_col5\" class=\"data row5 col5\" >6</td>\n",
       "            </tr>\n",
       "    </tbody></table>"
      ],
      "text/plain": [
       "       surface        series  order_surfaces  isBasement    color vertices edges  id\n",
       "4        fault  Fault_Series               1       False  #443988      NaN   NaN   1\n",
       "0       target  Strat_Series               1       False  #015482      NaN   NaN   2\n",
       "1  underburden  Strat_Series               2       False  #9f0052      NaN   NaN   3\n",
       "2   overburden  Strat_Series               3       False  #ffbe00      NaN   NaN   4\n",
       "3     seawater  Strat_Series               4       False  #728f02      NaN   NaN   5\n",
       "5     basement  Strat_Series               5        True  #ff3f20      NaN   NaN   6"
      ]
     },
     "execution_count": 3,
     "metadata": {},
     "output_type": "execute_result"
    }
   ],
   "source": [
    "gp.map_series_to_surfaces(\n",
    "    geo_model,\n",
    "    {\n",
    "        \"Fault_Series\": 'fault',\n",
    "        \"Strat_Series\": ('seawater', 'overburden', 'target', 'underburden', 'basement')\n",
    "    },\n",
    "    remove_unused_series=True\n",
    ")"
   ]
  },
  {
   "cell_type": "markdown",
   "metadata": {},
   "source": [
    "Set the fault series to fault"
   ]
  },
  {
   "cell_type": "code",
   "execution_count": 4,
   "metadata": {},
   "outputs": [
    {
     "name": "stdout",
     "output_type": "stream",
     "text": [
      "Fault colors changed. If you do not like this behavior, set change_color to False.\n"
     ]
    },
    {
     "data": {
      "text/html": [
       "<table border=\"1\" class=\"dataframe\">\n",
       "  <thead>\n",
       "    <tr style=\"text-align: right;\">\n",
       "      <th></th>\n",
       "      <th>isFault</th>\n",
       "      <th>isFinite</th>\n",
       "    </tr>\n",
       "  </thead>\n",
       "  <tbody>\n",
       "    <tr>\n",
       "      <th>Fault_Series</th>\n",
       "      <td>True</td>\n",
       "      <td>False</td>\n",
       "    </tr>\n",
       "    <tr>\n",
       "      <th>Strat_Series</th>\n",
       "      <td>False</td>\n",
       "      <td>False</td>\n",
       "    </tr>\n",
       "  </tbody>\n",
       "</table>"
      ],
      "text/plain": [
       "              isFault  isFinite\n",
       "Fault_Series     True     False\n",
       "Strat_Series    False     False"
      ]
     },
     "execution_count": 4,
     "metadata": {},
     "output_type": "execute_result"
    }
   ],
   "source": [
    "geo_model.set_is_fault(['Fault_Series'])"
   ]
  },
  {
   "cell_type": "markdown",
   "metadata": {},
   "source": [
    "## A note about the grid that is used\n",
    "\n",
    "`geo_model.grid` is the `GemPy`-equivalent to `grid.gridCC` in discretize.\n",
    "\n",
    "### Important difference: `GemPy` uses C-sorting, while `discretize` uses F-sorting."
   ]
  },
  {
   "cell_type": "code",
   "execution_count": 5,
   "metadata": {},
   "outputs": [
    {
     "data": {
      "text/plain": [
       "Grid Object. Values: \n",
       "array([[   20.,    20., -1980.],\n",
       "       [   20.,    20., -1940.],\n",
       "       [   20.,    20., -1900.],\n",
       "       ...,\n",
       "       [ 1980.,  1980.,  -100.],\n",
       "       [ 1980.,  1980.,   -60.],\n",
       "       [ 1980.,  1980.,   -20.]])"
      ]
     },
     "execution_count": 5,
     "metadata": {},
     "output_type": "execute_result"
    }
   ],
   "source": [
    "geo_model.grid"
   ]
  },
  {
   "cell_type": "markdown",
   "metadata": {},
   "source": [
    "## Model generation"
   ]
  },
  {
   "cell_type": "code",
   "execution_count": 6,
   "metadata": {
    "scrolled": false
   },
   "outputs": [
    {
     "name": "stdout",
     "output_type": "stream",
     "text": [
      "Compiling theano function...\n",
      "Compilation Done!\n"
     ]
    },
    {
     "data": {
      "text/plain": [
       "<gempy.core.interpolator.InterpolatorModel at 0x7f952744df60>"
      ]
     },
     "execution_count": 6,
     "metadata": {},
     "output_type": "execute_result"
    }
   ],
   "source": [
    "gp.set_interpolation_data(geo_model,\n",
    "                          compile_theano=True,\n",
    "                          theano_optimizer='fast_compile',\n",
    "                          verbose=[])\n"
   ]
  },
  {
   "cell_type": "markdown",
   "metadata": {},
   "source": [
    "### Calculate the solution"
   ]
  },
  {
   "cell_type": "code",
   "execution_count": 7,
   "metadata": {},
   "outputs": [],
   "source": [
    "sol = gp.compute_model(geo_model, compute_mesh=True)"
   ]
  },
  {
   "cell_type": "markdown",
   "metadata": {},
   "source": [
    "## Plot it with VTK"
   ]
  },
  {
   "cell_type": "code",
   "execution_count": 8,
   "metadata": {},
   "outputs": [
    {
     "name": "stdout",
     "output_type": "stream",
     "text": [
      "closing vtk\n"
     ]
    },
    {
     "data": {
      "text/plain": [
       "<gempy.plot.visualization_3d.GemPyvtkInteract at 0x7f95091931d0>"
      ]
     },
     "execution_count": 8,
     "metadata": {},
     "output_type": "execute_result"
    }
   ],
   "source": [
    "gp.plot.plot_3D(geo_model)"
   ]
  },
  {
   "cell_type": "markdown",
   "metadata": {},
   "source": [
    "Using the rescaled interpolation data, **we can also run our 3D VTK visualization in an interactive mode** which allows us to **alter and update our model in real time**. Similarly to the interactive 3D visualization of our input data, the changes are permamently saved (in the InterpolationInput dataframe object). Addtionally, the resulting changes in the geological models are re-computed in real time."
   ]
  }
 ],
 "metadata": {
  "kernelspec": {
   "display_name": "Python 3",
   "language": "python",
   "name": "python3"
  },
  "language_info": {
   "codemirror_mode": {
    "name": "ipython",
    "version": 3
   },
   "file_extension": ".py",
   "mimetype": "text/x-python",
   "name": "python",
   "nbconvert_exporter": "python",
   "pygments_lexer": "ipython3",
   "version": "3.7.3"
  },
  "latex_envs": {
   "LaTeX_envs_menu_present": true,
   "autocomplete": true,
   "bibliofile": "biblio.bib",
   "cite_by": "apalike",
   "current_citInitial": 1,
   "eqLabelWithNumbers": true,
   "eqNumInitial": 1,
   "hotkeys": {
    "equation": "Ctrl-E",
    "itemize": "Ctrl-I"
   },
   "labels_anchors": false,
   "latex_user_defs": false,
   "report_style_numbering": false,
   "user_envs_cfg": false
  },
  "toc": {
   "colors": {
    "hover_highlight": "#DAA520",
    "running_highlight": "#FF0000",
    "selected_highlight": "#FFD700"
   },
   "moveMenuLeft": true,
   "nav_menu": {
    "height": "67px",
    "width": "252px"
   },
   "navigate_menu": true,
   "number_sections": true,
   "sideBar": true,
   "threshold": 4,
   "toc_cell": false,
   "toc_section_display": "block",
   "toc_window_display": false,
   "widenNotebook": false
  }
 },
 "nbformat": 4,
 "nbformat_minor": 2
}
