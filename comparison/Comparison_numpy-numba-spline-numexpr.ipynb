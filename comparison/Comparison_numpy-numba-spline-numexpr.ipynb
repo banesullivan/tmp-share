{
 "cells": [
  {
   "cell_type": "code",
   "execution_count": 1,
   "metadata": {},
   "outputs": [],
   "source": [
    "import numpy as np\n",
    "\n",
    "import empymod as epm\n",
    "\n",
    "%load_ext line_profiler"
   ]
  },
  {
   "cell_type": "code",
   "execution_count": 2,
   "metadata": {},
   "outputs": [
    {
     "name": "stdout",
     "output_type": "stream",
     "text": [
      "   nlay   nfreq    noff    nwav        TOTAL             NumPy          Numba         Spline        Numexpr\n",
      "      5       1       1     201         1005   ::       1.7 ms         2.4 ms         2.0 ms        2.4 ms\n",
      "      5       1      30     201        30150   ::      13.3 ms        20.5 ms         2.5 ms        9.3 ms\n",
      "      5       1     500     201       502500   ::     204.3 ms       194.7 ms         3.0 ms       93.0 ms\n",
      "      5     100      30     201      3015000   ::    1741.3 ms      1101.4 ms       202.9 ms      618.5 ms\n",
      "      5     100     500     201     50250000   ::   32461.3 ms     19419.0 ms       245.9 ms     9835.3 ms\n"
     ]
    }
   ],
   "source": [
    "nfre = [1, 100]\n",
    "noff = [1, 30, 500]\n",
    "nl = 5\n",
    "nw = 201\n",
    "\n",
    "print(u'   nlay   nfreq    noff    nwav        TOTAL', end='')\n",
    "print(u'             NumPy          Numba         Spline        Numexpr')\n",
    "\n",
    "nums = [0]\n",
    "for nf in nfre:\n",
    "    for no in noff:\n",
    "        cn = nf*no*nl*nw\n",
    "        if cn in nums or cn < max(nums):\n",
    "            continue\n",
    "        else:\n",
    "            nums.append(cn)\n",
    "\n",
    "        print(u'%7i %7i %7i %7i %12i   ::' % (nl, nf, no, nw, cn), end='')\n",
    "        \n",
    "        depth = np.r_[0, 1000+np.linspace(0, 5000, nl-2)]\n",
    "        res = np.r_[2e14, 0.3, np.linspace(.1, 10, nl-2)]\n",
    "        rec   = [np.linspace(500, min(20000, no*500+500), no)\n",
    "                 , np.zeros(no), 1000]\n",
    "        freq = np.linspace(0.01, 10, nf)\n",
    "\n",
    "        model = {'src': [0, 0, 990], 'rec': rec, 'depth': depth, 'res': res,\n",
    "                 'freqtime': freq, 'ab': 11, 'verb': 0}\n",
    "\n",
    "        out1 = %timeit -q -o epm.dipole(opt=None, **model)\n",
    "        out2 = %timeit -q -o epm.dipole(opt='numba', **model)\n",
    "        out3 = %timeit -q -o epm.dipole(opt='spline', **model)\n",
    "        out4 = %timeit -q -o epm.dipole(opt='parallel', **model)\n",
    "\n",
    "        print(u'%10.1f ms  %10.1f ms  %10.1f ms %10.1f ms'\n",
    "              % (1000*out1.best, 1000*out2.best, 1000*out3.best, 1000*out4.best))"
   ]
  },
  {
   "cell_type": "code",
   "execution_count": 3,
   "metadata": {},
   "outputs": [
    {
     "name": "stdout",
     "output_type": "stream",
     "text": [
      "   nlay   nfreq    noff    nwav        TOTAL\n",
      "     10     100      50     201     50250000\n",
      "\n",
      "*** Profile printout saved to text file '/home/dtr/Desktop/none.txt'. \n",
      "\n",
      "*** Profile printout saved to text file '/home/dtr/Desktop/numba.txt'. \n",
      "\n",
      "*** Profile printout saved to text file '/home/dtr/Desktop/spline.txt'. \n",
      "\n",
      "*** Profile printout saved to text file '/home/dtr/Desktop/parallel.txt'. \n"
     ]
    },
    {
     "data": {
      "text/plain": [
       "<line_profiler.LineProfiler at 0x7f8cddd9c4c8>"
      ]
     },
     "execution_count": 3,
     "metadata": {},
     "output_type": "execute_result"
    }
   ],
   "source": [
    "nf, no, nl, nw = 100, 50, 10, 201\n",
    "print(u'   nlay   nfreq    noff    nwav        TOTAL')\n",
    "print(u'%7i %7i %7i %7i %12i' % (nl, nf, no, nw, cn))\n",
    "\n",
    "%lprun -T /home/dtr/Desktop/none.txt -r -s -f epm.dipole -f epm.fem -f epm.fht -f epm.dlf -f epm.wavenumber -f epm.greenfct -f epm.reflections -f epm.fields epm.dipole(opt=None, **model)\n",
    "%lprun -T /home/dtr/Desktop/numba.txt -r -s -f epm.dipole -f epm.fem -f epm.fht -f epm.dlf -f epm.wavenumber -f epm.greenfct -f epm.reflections -f epm.fields epm.dipole(opt='numba', **model)\n",
    "%lprun -T /home/dtr/Desktop/spline.txt -r -s -f epm.dipole -f epm.fem -f epm.fht -f epm.dlf -f epm.wavenumber -f epm.greenfct -f epm.reflections -f epm.fields epm.dipole(opt='spline', **model)\n",
    "%lprun -T /home/dtr/Desktop/parallel.txt -r -s -f epm.dipole -f epm.fem -f epm.fht -f epm.dlf -f epm.wavenumber -f epm.greenfct -f epm.reflections -f epm.fields epm.dipole(opt='parallel', **model)"
   ]
  },
  {
   "cell_type": "code",
   "execution_count": 4,
   "metadata": {},
   "outputs": [
    {
     "data": {
      "text/html": [
       "<table style='border: 3px solid #ddd;'>\n",
       "  <tr>\n",
       "     <td style='text-align: center; font-weight: bold; font-size: 1.2em; border: 2px solid #fff;' colspan='6'>Sun Jul 01 11:04:54 2018 CDT</td>\n",
       "  </tr>\n",
       "  <tr>\n",
       "    <td style='text-align: right; background-color: #ccc; border: 2px solid #fff;'>Linux</td>\n",
       "    <td style='text-align: left; border: 2px solid #fff;'>OS</td>\n",
       "    <td style='text-align: right; background-color: #ccc; border: 2px solid #fff;'>4</td>\n",
       "    <td style='text-align: left; border: 2px solid #fff;'>CPU(s)</td>\n",
       "    <td style='text-align: right; background-color: #ccc; border: 2px solid #fff;'>1.13.3</td>\n",
       "    <td style='text-align: left; border: 2px solid #fff;'>numpy</td>\n",
       "  </tr>\n",
       "  <tr>\n",
       "    <td style='text-align: right; background-color: #ccc; border: 2px solid #fff;'>1.1.0</td>\n",
       "    <td style='text-align: left; border: 2px solid #fff;'>scipy</td>\n",
       "    <td style='text-align: right; background-color: #ccc; border: 2px solid #fff;'>1.7.2.dev0-numba</td>\n",
       "    <td style='text-align: left; border: 2px solid #fff;'>empymod</td>\n",
       "    <td style='text-align: right; background-color: #ccc; border: 2px solid #fff;'>6.4.0</td>\n",
       "    <td style='text-align: left; border: 2px solid #fff;'>IPython</td>\n",
       "  </tr>\n",
       "  <tr>\n",
       "    <td style='text-align: right; background-color: #ccc; border: 2px solid #fff;'>0.38.1+1.gc42707d0f.dirty</td>\n",
       "    <td style='text-align: left; border: 2px solid #fff;'>numba</td>\n",
       "    <td style='text-align: right; background-color: #ccc; border: 2px solid #fff;'>2.6.5</td>\n",
       "    <td style='text-align: left; border: 2px solid #fff;'>numexpr</td>\n",
       "    <td style='text-align: right; background-color: #ccc; border: 2px solid #fff;'>2.2.2</td>\n",
       "    <td style='text-align: left; border: 2px solid #fff;'>matplotlib</td>\n",
       "  </tr>\n",
       "  <tr>\n",
       "     <td style='text-align: center; border: 2px solid #fff;' colspan='6'>3.6.5 |Anaconda custom (64-bit)| (default, Apr 29 2018, 16:14:56) \n",
       "[GCC 7.2.0]</td>\n",
       "  </tr>\n",
       "  <tr>\n",
       "     <td style='text-align: center; background-color: #ddd;border: 2px solid #fff;' colspan='6'>Intel(R) Math Kernel Library Version 2018.0.3 Product Build 20180406 for Intel(R) 64 architecture applications</td>\n",
       "  </tr>\n",
       "</table>"
      ],
      "text/plain": [
       "<IPython.core.display.HTML object>"
      ]
     },
     "execution_count": 4,
     "metadata": {},
     "output_type": "execute_result"
    }
   ],
   "source": [
    "epm.versions('HTML', ncol=3)"
   ]
  }
 ],
 "metadata": {
  "anaconda-cloud": {},
  "kernelspec": {
   "display_name": "Python 3",
   "language": "python",
   "name": "python3"
  },
  "language_info": {
   "codemirror_mode": {
    "name": "ipython",
    "version": 3
   },
   "file_extension": ".py",
   "mimetype": "text/x-python",
   "name": "python",
   "nbconvert_exporter": "python",
   "pygments_lexer": "ipython3",
   "version": "3.6.5"
  }
 },
 "nbformat": 4,
 "nbformat_minor": 1
}
