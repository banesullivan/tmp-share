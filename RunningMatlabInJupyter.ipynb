{
 "cells": [
  {
   "cell_type": "markdown",
   "metadata": {},
   "source": [
    "# Running Matlab in Jupyter\n",
    "\n",
    "Every now and then I have to use some Matlab functions in a project. For this reason I still have my Matlab version 2012b around, from a time when I was working much more in Matlab and I still had a license therefore (the one good thing of Matlab: a once bought license is forever, you just cannot update). What I would like to do is running this particular Matlab code in Jupyter, doing my usual Python stuff before and after calling that function.\n",
    "\n",
    "There are a couple of packages out there to help using Matlab in Jupyter. There are even entire Matlab kernels, so you can use Matlab in your dedicated Jupyter notebook. Some repositories:\n",
    "\n",
    "- https://github.com/imatlab/imatlab;\n",
    "- https://github.com/Calysto/matlab_kernel;\n",
    "- https://github.com/arokem/python-matlab-bridge.\n",
    "\n",
    "Using the second package from this list, `matlab_kernel`, there was even a Matlab class created entirely in Jupyter Notebooks, available on ReadTheDocs and on Github, something we are familiar from Python: Harvard AM111 2017 Fall; *Introduction to Scientific Computing*, https://am111.readthedocs.io.\n",
    "\n",
    "**However, most of them are overshoot for my purposes, or require MATLAB 2016b or newer with the new [MATLAB API for Python](https://www.mathworks.com/help/matlab/matlab-engine-for-python.html).**\n",
    "\n",
    "This notebook shows two (of probably many) ways of running Matlab code in a Notebook without too much fiddling. The first one is simple, using the `%%bash`-magic of the notebook. Downside of the simple approach is that there is no realtime output of the Matlab shell. The second option uses `subprocess`, with which we can monitor the output from Matlab. And at the end an example to pass Python variables to Matlab and the result from Matlab back to Python.\n",
    "\n",
    "For this code to work you must have Matlab installed, and `matlab` must be in your bash-PATH, if not you have to replace the `matlab`-commands with the full path to your binary. They work on my Linux machine, and I assume it is the same on a Mac. It might work on Windows as well, but I don't know."
   ]
  },
  {
   "cell_type": "code",
   "execution_count": 1,
   "metadata": {},
   "outputs": [],
   "source": [
    "import subprocess\n",
    "import numpy as np\n",
    "from scipy import io as sio\n",
    "import matplotlib.pyplot as plt"
   ]
  },
  {
   "cell_type": "markdown",
   "metadata": {},
   "source": [
    "# Create script-string for Matlab\n",
    "\n",
    "We basically just write the whole script in one string, on one line. In order to make it visually more attractive we split it over several lines, ending each line with `\\` to continue the line. This is rather fragile, and you really have to end each command with a `;` as the command is all in one line, otherwise it will fail. So it is only convenient for small scripts. (There might be better ways of which I am not aware of.)\n",
    "\n",
    "The example script doesn't make a lot of sense, and is just for demonstration purposes. I specifically entered the `pause(3)`-commands, so we can check if the output in the notebook is real-time or not."
   ]
  },
  {
   "cell_type": "code",
   "execution_count": 2,
   "metadata": {},
   "outputs": [],
   "source": [
    "script = \"\"\"\\\n",
    "    x = 1:.5:pi; \\\n",
    "    disp(['x = ', num2str(x)]); \\\n",
    "    pause(3); \\\n",
    "    ; \\\n",
    "    y = sin(x); \\\n",
    "    disp(['y = sin(x) = ', num2str(y)]); \\\n",
    "    pause(3); \\\n",
    "    ; \\\n",
    "    disp('Finished demo in Matlab'); \\\n",
    "    quit; \\\n",
    "\"\"\""
   ]
  },
  {
   "cell_type": "markdown",
   "metadata": {},
   "source": [
    "## Method 1: `%%bash-magic`\n",
    "\n",
    "This method is straight forward, **but you'll have to wait till the end to see the output**.\n",
    "\n",
    "The `-nojvm` tells Matlab to start without Java, which implies that no GUI is started an the splash-screen is also suppressed. You can provide as many arguments as you want with \"\" in the first line, they are numbered sequentially."
   ]
  },
  {
   "cell_type": "code",
   "execution_count": 3,
   "metadata": {},
   "outputs": [
    {
     "name": "stdout",
     "output_type": "stream",
     "text": [
      "\n",
      "                            < M A T L A B (R) >\n",
      "                  Copyright 1984-2012 The MathWorks, Inc.\n",
      "                    R2012b (8.0.0.783) 64-bit (glnxa64)\n",
      "                              August 22, 2012\n",
      "\n",
      " \n",
      "To get started, type one of these: helpwin, helpdesk, or demo.\n",
      "For product information, visit www.mathworks.com.\n",
      " \n",
      "x = 1         1.5           2         2.5           3\n",
      "y = sin(x) = 0.84147     0.99749      0.9093     0.59847     0.14112\n",
      "Finished demo in Matlab\n"
     ]
    }
   ],
   "source": [
    "%%bash -s \"$script\"\n",
    "matlab -nojvm -r \"$1\""
   ]
  },
  {
   "cell_type": "markdown",
   "metadata": {},
   "source": [
    "## Method 2: Using `subprocess`\n",
    "\n",
    "By using `subprocess` and writing a small while-loop we gain real-time output from Matlab.\n",
    "\n",
    "At the same time we can suppress the initial few lines (`< M A T L A B (R) > ...`), as we don't want to see them every time."
   ]
  },
  {
   "cell_type": "code",
   "execution_count": 4,
   "metadata": {},
   "outputs": [],
   "source": [
    "def matlab(command, startup_info=False):\n",
    "    \"\"\"Run a command in Matlab, flushing stdout continuously.\n",
    "    \n",
    "    startup_info: bool\n",
    "        If True, it will print the initial Matlab copyright etc.\n",
    "    \"\"\"\n",
    "    \n",
    "    # We add `disp('outputstarting')` at the beginning, so we can check for\n",
    "    # it and suppress the MATLAB-startup message.\n",
    "    if not startup_info:\n",
    "        command = \"disp('outputstarting'); \"+command\n",
    "    \n",
    "    # Start the process\n",
    "    process = subprocess.Popen(['matlab', '-nojvm', '-r', command],\n",
    "                               stdout=subprocess.PIPE, stderr=subprocess.PIPE)\n",
    "\n",
    "    # Monitor STDOUT and STDERR\n",
    "    while True:\n",
    "        line = process.stdout.readline()  # Get line\n",
    "\n",
    "        # If line is empty, Matlab finished, exit loop\n",
    "        if not line:\n",
    "            break\n",
    "            \n",
    "        # Print line depeding on startup_info\n",
    "        lline = line.rstrip().decode('latin')\n",
    "        if startup_info:\n",
    "            print(lline)\n",
    "        elif 'outputstarting' in lline:\n",
    "            startup_info = True"
   ]
  },
  {
   "cell_type": "markdown",
   "metadata": {},
   "source": [
    "Now we can simply call `matlab(script)` to run our desired script in Matlab:"
   ]
  },
  {
   "cell_type": "code",
   "execution_count": 5,
   "metadata": {
    "scrolled": false
   },
   "outputs": [
    {
     "name": "stdout",
     "output_type": "stream",
     "text": [
      "x = 1         1.5           2         2.5           3\n",
      "y = sin(x) = 0.84147     0.99749      0.9093     0.59847     0.14112\n",
      "Finished demo in Matlab\n"
     ]
    }
   ],
   "source": [
    "matlab(script)"
   ]
  },
  {
   "cell_type": "markdown",
   "metadata": {},
   "source": [
    "## Passing arguments\n",
    "\n",
    "The reason why I want to run Matlab in the notebook is because I do some calculations before and after calling the particular Matlab script, so passing variables is crucial. Thanks to `scipy.io` this is rather easy. To make it easier we also write a little function:"
   ]
  },
  {
   "cell_type": "code",
   "execution_count": 6,
   "metadata": {},
   "outputs": [],
   "source": [
    "def save4mat(variables, fname):\n",
    "    \"\"\"Store variables in a dict; save dict as `fname.mat` in current directory.\n",
    "    \n",
    "    variables : list of strings\n",
    "    fname : string\n",
    "    \"\"\"\n",
    "    pvars = {}\n",
    "    for name in variables:\n",
    "        pvars[name] = eval(name)\n",
    "    \n",
    "    sio.savemat(fname, pvars)"
   ]
  },
  {
   "cell_type": "markdown",
   "metadata": {},
   "source": [
    "Do some calculation in Python, and store it in `pythonvars.mat`."
   ]
  },
  {
   "cell_type": "code",
   "execution_count": 7,
   "metadata": {},
   "outputs": [],
   "source": [
    "x = np.linspace(0, 3*np.pi, 1001)\n",
    "mult = np.linspace(0, 1, x.size)\n",
    "\n",
    "save4mat(['x', 'mult'], 'pythonvars')"
   ]
  },
  {
   "cell_type": "markdown",
   "metadata": {},
   "source": [
    "Call Matlab; load `pythonvars.mat`; do some calculation; store in `output.mat`."
   ]
  },
  {
   "cell_type": "code",
   "execution_count": 8,
   "metadata": {},
   "outputs": [
    {
     "name": "stdout",
     "output_type": "stream",
     "text": [
      "Finished calculation in Matlab\n"
     ]
    }
   ],
   "source": [
    "matlab(\"\"\"\\\n",
    "    load pythonvars; \\\n",
    "    y = sin(x.*mult); \\\n",
    "    save('output', 'y'); \\\n",
    "    disp('Finished calculation in Matlab'); \\\n",
    "    quit; \\\n",
    "\"\"\")"
   ]
  },
  {
   "cell_type": "markdown",
   "metadata": {},
   "source": [
    "Load `output.mat` in Python, get `y`."
   ]
  },
  {
   "cell_type": "code",
   "execution_count": 9,
   "metadata": {},
   "outputs": [],
   "source": [
    "y = sio.loadmat('output')['y'][0]"
   ]
  },
  {
   "cell_type": "markdown",
   "metadata": {},
   "source": [
    "A small figure to check if this did what we wanted..."
   ]
  },
  {
   "cell_type": "code",
   "execution_count": 10,
   "metadata": {},
   "outputs": [
    {
     "data": {
      "image/png": "[encoded data removed]",
      "text/plain": [
       "<Figure size 432x288 with 1 Axes>"
      ]
     },
     "metadata": {
      "needs_background": "light"
     },
     "output_type": "display_data"
    }
   ],
   "source": [
    "plt.figure()\n",
    "plt.title('Two results, once calculated in NumPy, once in Matlab.')\n",
    "plt.plot(x, np.sin(x*mult), label='NumPy')\n",
    "plt.plot(x, y, '--', label='Matlab')\n",
    "plt.xlabel('x')\n",
    "plt.ylabel('y = sin(x*mult)')\n",
    "plt.legend()\n",
    "plt.show()"
   ]
  },
  {
   "cell_type": "markdown",
   "metadata": {},
   "source": [
    "That's it, very lightweight. We only need the packages `subprocess` and `scipy.io`, and defined two small functions, `matlab` and `save4mat`. With this we can happily continue to code in our Python notebooks, but call that one bloody function or script that we have to use in Matlab."
   ]
  }
 ],
 "metadata": {
  "kernelspec": {
   "display_name": "Python 3",
   "language": "python",
   "name": "python3"
  },
  "language_info": {
   "codemirror_mode": {
    "name": "ipython",
    "version": 3
   },
   "file_extension": ".py",
   "mimetype": "text/x-python",
   "name": "python",
   "nbconvert_exporter": "python",
   "pygments_lexer": "ipython3",
   "version": "3.6.6"
  }
 },
 "nbformat": 4,
 "nbformat_minor": 2
}
