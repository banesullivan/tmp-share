{
 "cells": [
  {
   "cell_type": "code",
   "execution_count": 1,
   "metadata": {},
   "outputs": [],
   "source": [
    "import numba\n",
    "import numpy as np\n",
    "%load_ext memory_profiler"
   ]
  },
  {
   "cell_type": "code",
   "execution_count": 2,
   "metadata": {},
   "outputs": [],
   "source": [
    "def multiply_volume_meshgrid(x, dx, dy, dz):\n",
    "    \"\"\"Multiply all voxels `dx x dy x dz` with a constant value x.\"\"\"\n",
    "    DX, DY, DZ = np.meshgrid(dx, dy, dz, indexing='ij')\n",
    "    return x*DX*DY*DZ\n",
    "\n",
    "def multiply_volume_dot(x, dx, dy, dz):\n",
    "    \"\"\"Multiply all voxels `dx x dy x dz` with a constant value x.\"\"\"\n",
    "    return np.dot(np.dot(x*dx[:, None], dy[None, :])[:, :, None], dz[None, :])\n",
    "\n",
    "def multiply_volume_tensordot(x, dx, dy, dz):\n",
    "    \"\"\"Multiply all voxels `dx x dy x dz` with a constant value x.\"\"\"\n",
    "    return np.tensordot(np.tensordot(x*dx, dy, 0), dz, 0)\n",
    "\n",
    "def multiply_volume_einsum(x, dx, dy, dz):\n",
    "    \"\"\"Multiply all voxels `dx x dy x dz` with a constant value x.\"\"\"\n",
    "    return np.einsum('i,j,k->ijk', x*dx, dy, dz)\n",
    "\n",
    "@numba.njit\n",
    "def multiply_volume_numba(x, dx, dy, dz):\n",
    "    \"\"\"Multiply all voxels `dx x dy x dz` with a constant value x.\"\"\"\n",
    "    nx = len(dx)\n",
    "    ny = len(dy)\n",
    "    nz = len(dz)\n",
    "    out = np.empty((nx, ny, nz))\n",
    "    for i in range(nx):\n",
    "        for j in range(ny):\n",
    "            for k in range(nz):\n",
    "                u, v, w = dx[i], dy[j], dz[k]\n",
    "                out[i, j, k] = x*u*v*w\n",
    "    return out"
   ]
  },
  {
   "cell_type": "code",
   "execution_count": 3,
   "metadata": {},
   "outputs": [],
   "source": [
    "dx = np.random.rand(100)\n",
    "dy = np.random.rand(100)\n",
    "dz = np.random.rand(100)\n",
    "x = 3.5"
   ]
  },
  {
   "cell_type": "code",
   "execution_count": 4,
   "metadata": {},
   "outputs": [
    {
     "name": "stdout",
     "output_type": "stream",
     "text": [
      "All results are numerically the same:  True\n"
     ]
    }
   ],
   "source": [
    "out_meshgrid = multiply_volume_meshgrid(x, dx, dy, dz)\n",
    "out_dot = multiply_volume_dot(x, dx, dy, dz)\n",
    "out_tensordot = multiply_volume_tensordot(x, dx, dy, dz)\n",
    "out_einsum = multiply_volume_einsum(x, dx, dy, dz)\n",
    "out_numba = multiply_volume_numba(x, dx, dy, dz)\n",
    "\n",
    "print('All results are numerically the same: ',\n",
    "      np.all([np.allclose(out_meshgrid, out_dot),\n",
    "              np.allclose(out_meshgrid, out_tensordot),\n",
    "              np.allclose(out_meshgrid, out_einsum),\n",
    "              np.allclose(out_meshgrid, out_numba)]))"
   ]
  },
  {
   "cell_type": "code",
   "execution_count": 5,
   "metadata": {},
   "outputs": [
    {
     "name": "stdout",
     "output_type": "stream",
     "text": [
      "np.meshgrid  :: 16.9 ms ± 188 µs per loop (mean ± std. dev. of 7 runs, 100 loops each)\n",
      "np.dot       :: 8.44 ms ± 146 µs per loop (mean ± std. dev. of 7 runs, 100 loops each)\n",
      "np.einsum    :: 3.65 ms ± 77.6 µs per loop (mean ± std. dev. of 7 runs, 100 loops each)\n",
      "np.tensordot :: 1.56 ms ± 22.2 µs per loop (mean ± std. dev. of 7 runs, 1000 loops each)\n",
      "numba.njit   :: 782 µs ± 12.1 µs per loop (mean ± std. dev. of 7 runs, 1000 loops each)\n"
     ]
    }
   ],
   "source": [
    "print('np.meshgrid  :: ', end='')\n",
    "%timeit multiply_volume_meshgrid(x, dx, dy, dz)\n",
    "print('np.dot       :: ', end='')\n",
    "%timeit multiply_volume_dot(x, dx, dy, dz)\n",
    "print('np.einsum    :: ', end='')\n",
    "%timeit multiply_volume_einsum(x, dx, dy, dz)\n",
    "print('np.tensordot :: ', end='')\n",
    "%timeit multiply_volume_tensordot(x, dx, dy, dz)\n",
    "print('numba.njit   :: ', end='')\n",
    "%timeit multiply_volume_numba(x, dx, dy, dz)"
   ]
  },
  {
   "cell_type": "code",
   "execution_count": 6,
   "metadata": {},
   "outputs": [
    {
     "name": "stdout",
     "output_type": "stream",
     "text": [
      "np.meshgrid  :: peak memory: 174.62 MiB, increment: 22.89 MiB\n",
      "np.dot       :: peak memory: 151.84 MiB, increment: 7.50 MiB\n",
      "np.tensordot :: peak memory: 151.84 MiB, increment: 0.00 MiB\n",
      "np.einsum    :: peak memory: 151.84 MiB, increment: 0.00 MiB\n",
      "numba.njit   :: peak memory: 152.03 MiB, increment: 0.19 MiB\n"
     ]
    }
   ],
   "source": [
    "print('np.meshgrid  :: ', end='')\n",
    "%memit multiply_volume_meshgrid(x, dx, dy, dz)\n",
    "print('np.dot       :: ', end='')\n",
    "%memit multiply_volume_dot(x, dx, dy, dz)\n",
    "print('np.tensordot :: ', end='')\n",
    "%memit multiply_volume_tensordot(x, dx, dy, dz)\n",
    "print('np.einsum    :: ', end='')\n",
    "%memit multiply_volume_einsum(x, dx, dy, dz)\n",
    "print('numba.njit   :: ', end='')\n",
    "%memit multiply_volume_numba(x, dx, dy, dz)"
   ]
  }
 ],
 "metadata": {
  "kernelspec": {
   "display_name": "Python 3",
   "language": "python",
   "name": "python3"
  },
  "language_info": {
   "codemirror_mode": {
    "name": "ipython",
    "version": 3
   },
   "file_extension": ".py",
   "mimetype": "text/x-python",
   "name": "python",
   "nbconvert_exporter": "python",
   "pygments_lexer": "ipython3",
   "version": "3.6.6"
  }
 },
 "nbformat": 4,
 "nbformat_minor": 2
}
