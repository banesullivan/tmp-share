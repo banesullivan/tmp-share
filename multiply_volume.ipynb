{
 "cells": [
  {
   "cell_type": "markdown",
   "metadata": {},
   "source": [
    "# Calculate all volumes of a regular grid, multiply by factor\n",
    "\n",
    "The zen of Python states that preferably there should only be one way to do it. Yet there are always so many possibilities. Tiny example: You have three arrays which define the widths of the volumes in x-/y-/z-direction of a regular 3D grid. You want to get a matrix with each voxels' volume, multiplied by a factor. Some of the many possibilities include:\n",
    "\n",
    "- Using np.meshgrid and normal multiplication;\n",
    "- Using np.dot twice, with broadcasting;\n",
    "- Using np.tensordot twice;\n",
    "- Using np.einsum;\n",
    "- Using numba.njit decorator.\n",
    "\n",
    "I am sure there are more possibilities. In this case numba ist fastest, followed by tensordot. If the array becomes small, tensordot becomes comparably slow, and meshgrid becomes more attractive. numba always wins.\n",
    "\n",
    "**=> Question: What is your approach in these situations?** Which way do you usually choose? The simplest? The fastest at any cost? The easiest to understand? The easiest to maintain?\n",
    "\n",
    "**Note:** Before running the notebook I set:\n",
    "```\n",
    "export MKL_NUM_THREADS=1\n",
    "export OMP_NUM_THREADS=1\n",
    "```\n",
    "in the terminal, to ensure that all methods only use 1 processor in order for a fair comparison."
   ]
  },
  {
   "cell_type": "code",
   "execution_count": 1,
   "metadata": {},
   "outputs": [],
   "source": [
    "import numba\n",
    "import numpy as np\n",
    "%load_ext memory_profiler"
   ]
  },
  {
   "cell_type": "markdown",
   "metadata": {},
   "source": [
    "## Define the functions"
   ]
  },
  {
   "cell_type": "code",
   "execution_count": 2,
   "metadata": {},
   "outputs": [],
   "source": [
    "def multiply_volume_meshgrid(x, dx, dy, dz):\n",
    "    \"\"\"Multiply all voxels `dx x dy x dz` with a constant value x.\"\"\"\n",
    "    DX, DY, DZ = np.meshgrid(dx, dy, dz, indexing='ij')\n",
    "    return x*DX*DY*DZ\n",
    "\n",
    "def multiply_volume_dot(x, dx, dy, dz):\n",
    "    \"\"\"Multiply all voxels `dx x dy x dz` with a constant value x.\"\"\"\n",
    "    return np.dot(np.dot(x*dx[:, None], dy[None, :])[:, :, None], dz[None, :])\n",
    "\n",
    "def multiply_volume_tensordot(x, dx, dy, dz):\n",
    "    \"\"\"Multiply all voxels `dx x dy x dz` with a constant value x.\"\"\"\n",
    "    return np.tensordot(np.tensordot(x*dx, dy, 0), dz, 0)\n",
    "\n",
    "def multiply_volume_einsum(x, dx, dy, dz):\n",
    "    \"\"\"Multiply all voxels `dx x dy x dz` with a constant value x.\"\"\"\n",
    "    return np.einsum('i,j,k->ijk', x*dx, dy, dz)\n",
    "\n",
    "@numba.njit\n",
    "def multiply_volume_numba(x, dx, dy, dz):\n",
    "    \"\"\"Multiply all voxels `dx x dy x dz` with a constant value x.\"\"\"\n",
    "    nx = len(dx)\n",
    "    ny = len(dy)\n",
    "    nz = len(dz)\n",
    "    out = np.empty((nx, ny, nz))\n",
    "    for i in range(nx):\n",
    "        for j in range(ny):\n",
    "            for k in range(nz):\n",
    "                u, v, w = dx[i], dy[j], dz[k]\n",
    "                out[i, j, k] = x*u*v*w\n",
    "    return out"
   ]
  },
  {
   "cell_type": "markdown",
   "metadata": {},
   "source": [
    "## Define the input values"
   ]
  },
  {
   "cell_type": "code",
   "execution_count": 3,
   "metadata": {
    "collapsed": true
   },
   "outputs": [],
   "source": [
    "dx = np.random.rand(100)\n",
    "dy = np.random.rand(100)\n",
    "dz = np.random.rand(100)\n",
    "x = 3.5"
   ]
  },
  {
   "cell_type": "markdown",
   "metadata": {},
   "source": [
    "## Ensure results are the same"
   ]
  },
  {
   "cell_type": "code",
   "execution_count": 4,
   "metadata": {},
   "outputs": [
    {
     "name": "stdout",
     "output_type": "stream",
     "text": [
      "All results are numerically the same:  True\n"
     ]
    }
   ],
   "source": [
    "out_meshgrid = multiply_volume_meshgrid(x, dx, dy, dz)\n",
    "out_dot = multiply_volume_dot(x, dx, dy, dz)\n",
    "out_tensordot = multiply_volume_tensordot(x, dx, dy, dz)\n",
    "out_einsum = multiply_volume_einsum(x, dx, dy, dz)\n",
    "out_numba = multiply_volume_numba(x, dx, dy, dz)\n",
    "\n",
    "print('All results are numerically the same: ',\n",
    "      np.all([np.allclose(out_meshgrid, out_dot),\n",
    "              np.allclose(out_meshgrid, out_tensordot),\n",
    "              np.allclose(out_meshgrid, out_einsum),\n",
    "              np.allclose(out_meshgrid, out_numba)]))"
   ]
  },
  {
   "cell_type": "markdown",
   "metadata": {},
   "source": [
    "## Runtime comparison"
   ]
  },
  {
   "cell_type": "code",
   "execution_count": 5,
   "metadata": {},
   "outputs": [
    {
     "name": "stdout",
     "output_type": "stream",
     "text": [
      "np.meshgrid  :: 16.9 ms ± 188 µs per loop (mean ± std. dev. of 7 runs, 100 loops each)\n",
      "np.dot       :: 8.44 ms ± 146 µs per loop (mean ± std. dev. of 7 runs, 100 loops each)\n",
      "np.einsum    :: 3.65 ms ± 77.6 µs per loop (mean ± std. dev. of 7 runs, 100 loops each)\n",
      "np.tensordot :: 1.56 ms ± 22.2 µs per loop (mean ± std. dev. of 7 runs, 1000 loops each)\n",
      "numba.njit   :: 782 µs ± 12.1 µs per loop (mean ± std. dev. of 7 runs, 1000 loops each)\n"
     ]
    }
   ],
   "source": [
    "print('np.meshgrid  :: ', end='')\n",
    "%timeit multiply_volume_meshgrid(x, dx, dy, dz)\n",
    "print('np.dot       :: ', end='')\n",
    "%timeit multiply_volume_dot(x, dx, dy, dz)\n",
    "print('np.einsum    :: ', end='')\n",
    "%timeit multiply_volume_einsum(x, dx, dy, dz)\n",
    "print('np.tensordot :: ', end='')\n",
    "%timeit multiply_volume_tensordot(x, dx, dy, dz)\n",
    "print('numba.njit   :: ', end='')\n",
    "%timeit multiply_volume_numba(x, dx, dy, dz)"
   ]
  },
  {
   "cell_type": "markdown",
   "metadata": {},
   "source": [
    "## Memory comparison"
   ]
  },
  {
   "cell_type": "code",
   "execution_count": 6,
   "metadata": {},
   "outputs": [
    {
     "name": "stdout",
     "output_type": "stream",
     "text": [
      "np.meshgrid  :: peak memory: 174.62 MiB, increment: 22.89 MiB\n",
      "np.dot       :: peak memory: 151.84 MiB, increment: 7.50 MiB\n",
      "np.tensordot :: peak memory: 151.84 MiB, increment: 0.00 MiB\n",
      "np.einsum    :: peak memory: 151.84 MiB, increment: 0.00 MiB\n",
      "numba.njit   :: peak memory: 152.03 MiB, increment: 0.19 MiB\n"
     ]
    }
   ],
   "source": [
    "print('np.meshgrid  :: ', end='')\n",
    "%memit multiply_volume_meshgrid(x, dx, dy, dz)\n",
    "print('np.dot       :: ', end='')\n",
    "%memit multiply_volume_dot(x, dx, dy, dz)\n",
    "print('np.tensordot :: ', end='')\n",
    "%memit multiply_volume_tensordot(x, dx, dy, dz)\n",
    "print('np.einsum    :: ', end='')\n",
    "%memit multiply_volume_einsum(x, dx, dy, dz)\n",
    "print('numba.njit   :: ', end='')\n",
    "%memit multiply_volume_numba(x, dx, dy, dz)"
   ]
  }
 ],
 "metadata": {
  "kernelspec": {
   "display_name": "Python 3",
   "language": "python",
   "name": "python3"
  },
  "language_info": {
   "codemirror_mode": {
    "name": "ipython",
    "version": 3
   },
   "file_extension": ".py",
   "mimetype": "text/x-python",
   "name": "python",
   "nbconvert_exporter": "python",
   "pygments_lexer": "ipython3",
   "version": "3.6.6"
  }
 },
 "nbformat": 4,
 "nbformat_minor": 2
}
